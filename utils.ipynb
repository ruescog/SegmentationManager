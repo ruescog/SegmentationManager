{
 "cells": [
  {
   "cell_type": "code",
   "execution_count": 2,
   "metadata": {},
   "outputs": [],
   "source": [
    "from functools import wraps"
   ]
  },
  {
   "cell_type": "code",
   "execution_count": 1,
   "metadata": {},
   "outputs": [],
   "source": [
    "def superreplace(message, map):\n",
    "    for old_element, new_element in map.items():\n",
    "        new_element = new_element if type(new_element) not in [list, tuple] else new_element[0]\n",
    "        message = message.replace(old_element.upper(), str(new_element))\n",
    "    return message"
   ]
  },
  {
   "cell_type": "code",
   "execution_count": 1,
   "metadata": {},
   "outputs": [],
   "source": [
    "def coalesce(iterable):\n",
    "    for item in iterable:\n",
    "        if item:\n",
    "            return item"
   ]
  },
  {
   "cell_type": "code",
   "execution_count": 4,
   "metadata": {},
   "outputs": [],
   "source": [
    "class AOP():\n",
    "    def logger(message, when = \"after\"):\n",
    "        def inner(function):\n",
    "            def wrapper(*args, **kwargs):\n",
    "                if when == \"before\":\n",
    "                    print(f\"[LOGGER]:\", superreplace(message, kwargs))\n",
    "\n",
    "                result = function(*args, **kwargs)\n",
    "\n",
    "                if when == \"after\":\n",
    "                    print(f\"[LOGGER]:\", superreplace(message, kwargs).replace(\"VALUE\", str(result)))\n",
    "\n",
    "                return result\n",
    "            return wrapper\n",
    "        return inner\n",
    "\n",
    "    def excepter(exception, ignore = False):\n",
    "        def inner(function):\n",
    "            @wraps(function)\n",
    "            def wrapper(*args, **kwargs):\n",
    "                try:\n",
    "                    result = function(*args, **kwargs)\n",
    "                    return result\n",
    "                except exception as e:\n",
    "                    print(f\"[{function.__qualname__}][{'WARNING' if ignore else 'ERROR'}]:\", str(e))\n",
    "                    if not ignore:\n",
    "                        raise e.__class__(str(e))\n",
    "            return wrapper\n",
    "        return inner"
   ]
  },
  {
   "cell_type": "code",
   "execution_count": 5,
   "metadata": {},
   "outputs": [],
   "source": [
    "class MaskFormatDoesNotMatch(Exception):\n",
    "    def __init__(self, message = \"\"):\n",
    "        super().__init__(message)"
   ]
  },
  {
   "cell_type": "code",
   "execution_count": 6,
   "metadata": {},
   "outputs": [],
   "source": [
    "class ModelNotBuildable(Exception):\n",
    "    def __init__(self, message = \"\"):\n",
    "        super().__init__(message)"
   ]
  },
  {
   "cell_type": "code",
   "execution_count": null,
   "metadata": {},
   "outputs": [],
   "source": [
    "class LibraryNotFound(Exception):\n",
    "    def __init__(self, message = \"\"):\n",
    "        super().__init__(message)"
   ]
  }
 ],
 "metadata": {
  "kernelspec": {
   "display_name": "Python 3",
   "language": "python",
   "name": "python3"
  },
  "language_info": {
   "codemirror_mode": {
    "name": "ipython",
    "version": 3
   },
   "file_extension": ".py",
   "mimetype": "text/x-python",
   "name": "python",
   "nbconvert_exporter": "python",
   "pygments_lexer": "ipython3",
   "version": "3.6.7"
  }
 },
 "nbformat": 4,
 "nbformat_minor": 4
}
